{
  "cells": [
    {
      "cell_type": "code",
      "execution_count": null,
      "metadata": {
        "id": "5IpCKM8NdcTP"
      },
      "outputs": [],
      "source": [
        "modelName = \"Dense_20epochs.h5\""
      ]
    },
    {
      "cell_type": "code",
      "execution_count": null,
      "metadata": {
        "id": "feNwTFKMaGZt"
      },
      "outputs": [],
      "source": [
        "from google.colab import drive\n",
        "drive.mount('/content/drive')\n",
        "from convert import *\n",
        "from function1 import *\n",
        "import numpy as np\n",
        "\n",
        "film_sayisi = 3\n",
        "window_size = 5\n",
        "\n",
        "films = list(range(film_sayisi))\n",
        "\n",
        "# Loading the dictionary\n",
        "with open(\"dictionary.txt\",\"r\",encoding=\"utf8\") as file:\n",
        "    dictionary = [string.replace(\"\\n\",\"\") for string in file.readlines()]"
      ]
    },
    {
      "cell_type": "code",
      "execution_count": null,
      "metadata": {
        "id": "Dsyl4P46ciYx"
      },
      "outputs": [],
      "source": [
        "from keras import Sequential\n",
        "from keras.models import load_model\n",
        "\n",
        "model = load_model(f'drive/MyDrive/Colab Notebooks/{modelName}') # model1 20 epochs"
      ]
    },
    {
      "cell_type": "code",
      "execution_count": null,
      "metadata": {
        "id": "QPp5loNteLdX"
      },
      "outputs": [],
      "source": [
        "# Creating scripts[][]\n",
        "scripts = []\n",
        "\n",
        "for j in films:\n",
        "    with open(f\"{j}_enc.txt\",\"r\") as file:\n",
        "        scripts.append(list(map(int,list(file.read().splitlines()))))\n",
        "\n",
        "# Turning int to [int]\n",
        "def func(liste):\n",
        "    return [[x] for x in liste]\n",
        "scripts = list(map(func,scripts))\n",
        "\n",
        "# To categorical -> [0,0,0,...,1,...0,0,0]\n",
        "from keras.utils import to_categorical\n",
        "for j in films:\n",
        "    scripts[j] = to_categorical(scripts[j],num_classes=len(dictionary)+1,dtype=\"byte\")\n",
        "\n",
        "# Creating inputs and outputs lists\n",
        "inputs = []\n",
        "outputs = []\n",
        "for j in films:\n",
        "    inputs.append(None)\n",
        "    outputs.append(None)\n",
        "\n",
        "# Creating sublists\n",
        "for j in films:\n",
        "    inputs[j],outputs[j] = create_sublists(scripts[j],window_size)\n",
        "\n",
        "# Removing [films] layer in lists\n",
        "inputs_temp = []\n",
        "for j in films:\n",
        "    for k in range(len(inputs[j])):\n",
        "        inputs_temp.append(inputs[j][k])\n",
        "inputs = inputs_temp\n",
        "del inputs_temp\n",
        "outputs_temp = []\n",
        "for j in films:\n",
        "    for k in range(len(outputs[j])):\n",
        "        outputs_temp.append(outputs[j][k])\n",
        "outputs = outputs_temp\n",
        "del outputs_temp\n",
        "\n",
        "# Creating train data and test data, x is for input and y is for output\n",
        "from sklearn.model_selection import train_test_split\n",
        "x_train, x_test, y_train, y_test = train_test_split(inputs, outputs, test_size=0.3, random_state=42)\n",
        "\n",
        "x_train = np.asarray(x_train)\n",
        "y_train = np.asarray(y_train)\n",
        "x_test = np.asarray(x_test)\n",
        "y_test = np.asarray(y_test)"
      ]
    },
    {
      "cell_type": "code",
      "execution_count": null,
      "metadata": {
        "colab": {
          "base_uri": "https://localhost:8080/"
        },
        "id": "crQZg0moesCi",
        "outputId": "49bd59eb-1d4c-4b15-b8cb-dacb139cb1a4"
      },
      "outputs": [
        {
          "name": "stdout",
          "output_type": "stream",
          "text": [
            "Epoch 1/10\n",
            "2432/2432 [==============================] - 154s 63ms/step - loss: 5.8171 - accuracy: 0.1391\n",
            "Epoch 2/10\n",
            "2432/2432 [==============================] - 152s 62ms/step - loss: 5.7591 - accuracy: 0.1462\n",
            "Epoch 3/10\n",
            "2432/2432 [==============================] - 152s 62ms/step - loss: 5.7018 - accuracy: 0.1516\n",
            "Epoch 4/10\n",
            "2432/2432 [==============================] - 152s 62ms/step - loss: 5.6436 - accuracy: 0.1582\n",
            "Epoch 5/10\n",
            "2432/2432 [==============================] - 152s 62ms/step - loss: 5.5873 - accuracy: 0.1657\n",
            "Epoch 6/10\n",
            "2432/2432 [==============================] - 152s 62ms/step - loss: 5.5303 - accuracy: 0.1715\n",
            "Epoch 7/10\n",
            "2432/2432 [==============================] - 152s 62ms/step - loss: 5.4725 - accuracy: 0.1783\n",
            "Epoch 8/10\n",
            "2432/2432 [==============================] - 152s 62ms/step - loss: 5.4144 - accuracy: 0.1862\n",
            "Epoch 9/10\n",
            "2432/2432 [==============================] - 152s 62ms/step - loss: 5.3560 - accuracy: 0.1931\n",
            "Epoch 10/10\n",
            "2432/2432 [==============================] - 152s 62ms/step - loss: 5.2985 - accuracy: 0.2009\n"
          ]
        },
        {
          "data": {
            "text/plain": [
              "<keras.src.callbacks.History at 0x7888b027be80>"
            ]
          },
          "execution_count": 8,
          "metadata": {},
          "output_type": "execute_result"
        }
      ],
      "source": [
        "# Training the model for n epochs\n",
        "n = 10\n",
        "model.fit(x_train, y_train, epochs=15, batch_size=16) # model1 15 epochs"
      ]
    },
    {
      "cell_type": "code",
      "execution_count": null,
      "metadata": {
        "colab": {
          "base_uri": "https://localhost:8080/"
        },
        "id": "pkieEYBVgN3k",
        "outputId": "a7c48961-ce99-4166-b154-22c8523bba37"
      },
      "outputs": [
        {
          "name": "stderr",
          "output_type": "stream",
          "text": [
            "/usr/local/lib/python3.10/dist-packages/keras/src/engine/training.py:3103: UserWarning: You are saving your model as an HDF5 file via `model.save()`. This file format is considered legacy. We recommend using instead the native Keras format, e.g. `model.save('my_model.keras')`.\n",
            "  saving_api.save_model(\n"
          ]
        }
      ],
      "source": [
        "# Saving the model\n",
        "model.save(\"drive/MyDrive/Colab Notebooks/Dense_35epochs.h5\")"
      ]
    },
    {
      "cell_type": "code",
      "execution_count": null,
      "metadata": {},
      "outputs": [],
      "source": [
        "STOP()"
      ]
    },
    {
      "cell_type": "code",
      "execution_count": null,
      "metadata": {
        "colab": {
          "base_uri": "https://localhost:8080/"
        },
        "id": "2rEfN3bms8ka",
        "outputId": "8e297799-ed7b-43b9-aaf0-c6a9856afd46"
      },
      "outputs": [
        {
          "name": "stdout",
          "output_type": "stream",
          "text": [
            "Epoch 1/80\n",
            "2432/2432 [==============================] - 155s 63ms/step - loss: 5.2398 - accuracy: 0.2086\n",
            "Epoch 2/80\n",
            "2432/2432 [==============================] - 154s 63ms/step - loss: 5.1810 - accuracy: 0.2160\n",
            "Epoch 3/80\n",
            "2432/2432 [==============================] - 155s 64ms/step - loss: 5.1216 - accuracy: 0.2230\n",
            "Epoch 4/80\n",
            "2432/2432 [==============================] - 156s 64ms/step - loss: 5.0616 - accuracy: 0.2320\n",
            "Epoch 5/80\n",
            "2432/2432 [==============================] - 155s 64ms/step - loss: 5.0015 - accuracy: 0.2405\n",
            "Epoch 6/80\n",
            "2432/2432 [==============================] - 155s 64ms/step - loss: 4.9423 - accuracy: 0.2483\n",
            "Epoch 7/80\n",
            "2432/2432 [==============================] - 155s 64ms/step - loss: 4.8816 - accuracy: 0.2557\n",
            "Epoch 8/80\n",
            "2432/2432 [==============================] - 156s 64ms/step - loss: 4.8209 - accuracy: 0.2653\n",
            "Epoch 9/80\n",
            "2432/2432 [==============================] - 156s 64ms/step - loss: 4.7608 - accuracy: 0.2729\n",
            "Epoch 10/80\n",
            "2432/2432 [==============================] - 157s 64ms/step - loss: 4.7000 - accuracy: 0.2811\n",
            "Epoch 11/80\n",
            "2432/2432 [==============================] - 156s 64ms/step - loss: 4.6382 - accuracy: 0.2896\n",
            "Epoch 12/80\n",
            "2432/2432 [==============================] - 156s 64ms/step - loss: 4.5776 - accuracy: 0.2993\n",
            "Epoch 13/80\n",
            "2432/2432 [==============================] - 156s 64ms/step - loss: 4.5162 - accuracy: 0.3081\n",
            "Epoch 14/80\n",
            "2432/2432 [==============================] - 157s 64ms/step - loss: 4.4551 - accuracy: 0.3154\n",
            "Epoch 15/80\n",
            "2432/2432 [==============================] - 156s 64ms/step - loss: 4.3940 - accuracy: 0.3256\n",
            "Epoch 16/80\n",
            "2432/2432 [==============================] - 157s 64ms/step - loss: 4.3325 - accuracy: 0.3350\n",
            "Epoch 17/80\n",
            "2432/2432 [==============================] - 156s 64ms/step - loss: 4.2720 - accuracy: 0.3424\n",
            "Epoch 18/80\n",
            "2432/2432 [==============================] - 156s 64ms/step - loss: 4.2101 - accuracy: 0.3515\n",
            "Epoch 19/80\n",
            "  32/2432 [..............................] - ETA: 2:32 - loss: 4.1811 - accuracy: 0.3535"
          ]
        }
      ],
      "source": [
        "model.fit(x_train, y_train, epochs=80, batch_size=16) # model1 100 epochs"
      ]
    },
    {
      "cell_type": "markdown",
      "metadata": {
        "id": "_6cpKaAMoGDh"
      },
      "source": [
        "Server shut down during the code above was working and training up to 100 epochs failed."
      ]
    },
    {
      "cell_type": "code",
      "execution_count": null,
      "metadata": {
        "id": "Hrv505f7vU3R"
      },
      "outputs": [],
      "source": [
        "model.save(\"drive/MyDrive/Colab Notebooks/Dense_100epochs.h5\")"
      ]
    },
    {
      "cell_type": "code",
      "execution_count": null,
      "metadata": {
        "id": "iLr06F2XtD1g"
      },
      "outputs": [],
      "source": [
        "# Testing the model on test data (Trained for 100 epochs)\n",
        "pred_output = model.predict(x_test)\n",
        "length = len(pred_output)\n",
        "counter = 0\n",
        "for i in range(length):\n",
        "    a = toInt(pred_output[i])\n",
        "    b = y_test[i]\n",
        "    if a.tolist() == b.tolist():\n",
        "        counter+=1\n",
        "\n",
        "accuracy = counter * 100 / length\n",
        "print(f\"Accuracy: %{accuracy}\")"
      ]
    },
    {
      "cell_type": "code",
      "execution_count": null,
      "metadata": {
        "id": "eUnf7Ao9t2A8"
      },
      "outputs": [],
      "source": [
        "model.fit(x_test, y_test, epochs=100, batch_size=16) # model1 100 epochs + 100 epochs"
      ]
    },
    {
      "cell_type": "code",
      "execution_count": null,
      "metadata": {
        "id": "JfBAL-o_var_"
      },
      "outputs": [],
      "source": [
        "model.save(\"drive/MyDrive/Colab Notebooks/Dense_200epochs.h5\")"
      ]
    },
    {
      "cell_type": "code",
      "execution_count": null,
      "metadata": {
        "id": "7UvnHCZqu2Ai"
      },
      "outputs": [],
      "source": [
        "# Testing the model on whole data (Trained for total 200 epochs)\n",
        "pred_output = model.predict(input)\n",
        "length = len(input)\n",
        "counter = 0\n",
        "for i in range(length):\n",
        "    a = toInt(input[i])\n",
        "    b = output[i]\n",
        "    if a.tolist() == b.tolist():\n",
        "        counter+=1\n",
        "\n",
        "accuracy = counter * 100 / length\n",
        "print(f\"Whole Accuracy: %{accuracy}\")"
      ]
    }
  ],
  "metadata": {
    "accelerator": "GPU",
    "colab": {
      "gpuType": "T4",
      "provenance": []
    },
    "kernelspec": {
      "display_name": "Python 3",
      "name": "python3"
    },
    "language_info": {
      "name": "python"
    }
  },
  "nbformat": 4,
  "nbformat_minor": 0
}
